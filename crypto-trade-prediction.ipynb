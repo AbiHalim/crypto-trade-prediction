{
 "cells": [
  {
   "cell_type": "markdown",
   "id": "f0ffad69",
   "metadata": {},
   "source": [
    "### Step 1: Load the datasets"
   ]
  },
  {
   "cell_type": "code",
   "execution_count": 18,
   "id": "84fc1f9d",
   "metadata": {},
   "outputs": [],
   "source": [
    "import pandas as pd\n",
    "\n",
    "fills_data = pd.read_parquet(\"datasets/fills_data.parq\")\n",
    "market_data = pd.read_parquet(\"datasets/market_data.parq\")"
   ]
  },
  {
   "cell_type": "markdown",
   "id": "7ad674c8",
   "metadata": {},
   "source": [
    "### Step 2: Preprocessing\n",
    "Here, we will be merging the `fills_data` and `market_data` datasets based on `timestamp`"
   ]
  },
  {
   "cell_type": "code",
   "execution_count": null,
   "id": "6972dd6f",
   "metadata": {},
   "outputs": [],
   "source": [
    "fills_data.index = pd.to_datetime(fills_data.index)\n",
    "market_data.index = pd.to_datetime(market_data.index)\n",
    "\n",
    "if fills_data.index.tz is None:\n",
    "\tfills_data.index = fills_data.index.tz_localize('UTC')\n",
    "if market_data.index.tz is None:\n",
    "\tmarket_data.index = market_data.index.tz_localize('UTC')\n",
    "\n",
    "fills_data['side'] = fills_data['side'].astype('category')\n",
    "fills_data['liquidity'] = fills_data['liquidity'].astype('category')\n",
    "\n",
    "fills_data = fills_data.sort_values('timestamp')\n",
    "market_data = market_data.sort_values('timestamp')\n",
    "\n",
    "merged_data = pd.merge_asof(\n",
    "\tfills_data.reset_index(),\n",
    "\tmarket_data.reset_index(),\n",
    "\ton='timestamp',\n",
    "\tdirection='backward'\n",
    ")"
   ]
  },
  {
   "cell_type": "markdown",
   "id": "997cf978",
   "metadata": {},
   "source": [
    "### Step 3: Feature Engineering"
   ]
  },
  {
   "cell_type": "code",
   "execution_count": 23,
   "id": "e837e147",
   "metadata": {},
   "outputs": [],
   "source": [
    "merged_data['mid_price'] = (merged_data['bid_prc'] + merged_data['ask_prc']) / 2\n",
    "merged_data['q_i'] = merged_data['fill_qty'] * merged_data['side'].map({'B': 1, 'S': -1}).astype(int)\n",
    "merged_data['trade_pnl'] = merged_data['q_i'] * (merged_data['mid_price'] - merged_data['fill_prc'])\n",
    "merged_data['cumulative_pnl'] = merged_data['trade_pnl'].cumsum()\n",
    "\n",
    "merged_data['trade_pnl_lag1'] = merged_data['trade_pnl'].shift(1)\n",
    "merged_data['cumulative_pnl_lag1'] = merged_data['cumulative_pnl'].shift(1)\n",
    "merged_data['balance_lag1'] = merged_data['balance'].shift(1)\n",
    "\n",
    "merged_data['volatility'] = merged_data['mid_price'].rolling(window=20).std()\n",
    "merged_data['volatility_lag1'] = merged_data['volatility'].shift(1)\n",
    "\n",
    "mean_balance = merged_data['balance_lag1'].mean()\n",
    "merged_data['dev_from_mean_balance_lag1'] = merged_data['balance_lag1'] - mean_balance\n",
    "merged_data['dev_from_mean_balance_lag1_diff'] = merged_data['dev_from_mean_balance_lag1'].diff()\n",
    "\n",
    "mean_mid_price = merged_data['mid_price'].rolling(window=100).mean().shift(1)\n",
    "merged_data['dev_from_mean_mid_price_lag1'] = merged_data['mid_price'] - mean_mid_price\n",
    "merged_data['dev_from_mean_mid_price_lag1_diff'] = merged_data['dev_from_mean_mid_price_lag1'].diff()\n",
    "\n",
    "# Drop NA rows from lag/rolling features\n",
    "merged_data = merged_data.dropna()\n",
    "\n",
    "# Encode target\n",
    "merged_data['target'] = merged_data['side'].map({'B': 1, 'S': 0})"
   ]
  },
  {
   "cell_type": "markdown",
   "id": "c00326b0",
   "metadata": {},
   "source": [
    "### Step 4: Model Training"
   ]
  },
  {
   "cell_type": "code",
   "execution_count": 25,
   "id": "bed53420",
   "metadata": {},
   "outputs": [
    {
     "name": "stdout",
     "output_type": "stream",
     "text": [
      "              precision    recall  f1-score   support\n",
      "\n",
      "           0       0.65      0.74      0.69       140\n",
      "           1       0.76      0.66      0.71       167\n",
      "\n",
      "    accuracy                           0.70       307\n",
      "   macro avg       0.70      0.70      0.70       307\n",
      "weighted avg       0.71      0.70      0.70       307\n",
      "\n"
     ]
    }
   ],
   "source": [
    "from sklearn.model_selection import train_test_split\n",
    "from sklearn.ensemble import GradientBoostingClassifier\n",
    "from sklearn.metrics import classification_report\n",
    "\n",
    "features = [\n",
    "    'dev_from_mean_balance_lag1_diff',\n",
    "    'dev_from_mean_mid_price_lag1_diff',\n",
    "    'trade_pnl_lag1',\n",
    "    'volatility_lag1',\n",
    "    'fill_prc',\n",
    "    'fill_qty'\n",
    "]\n",
    "\n",
    "X = merged_data[features]\n",
    "y = merged_data['target']\n",
    "\n",
    "X_train, X_test, y_train, y_test = train_test_split(X, y, test_size=0.3, random_state=42)\n",
    "\n",
    "model = GradientBoostingClassifier()\n",
    "model.fit(X_train, y_train)\n",
    "y_pred = model.predict(X_test)\n",
    "\n",
    "print(classification_report(y_test, y_pred))"
   ]
  },
  {
   "cell_type": "code",
   "execution_count": 26,
   "id": "1c375246",
   "metadata": {},
   "outputs": [
    {
     "data": {
      "image/png": "[encoded data removed]",
      "text/plain": [
       "<Figure size 640x480 with 1 Axes>"
      ]
     },
     "metadata": {},
     "output_type": "display_data"
    }
   ],
   "source": [
    "import matplotlib.pyplot as plt\n",
    "import seaborn as sns\n",
    "\n",
    "importance = model.feature_importances_\n",
    "sns.barplot(x=importance, y=features)\n",
    "plt.title(\"Feature Importance - Gradient Boosting\")\n",
    "plt.show()\n"
   ]
  },
  {
   "cell_type": "markdown",
   "id": "769e4aaf",
   "metadata": {},
   "source": [
    "### Step 6: Cross-Validation"
   ]
  },
  {
   "cell_type": "code",
   "execution_count": 27,
   "id": "1037d3d8",
   "metadata": {},
   "outputs": [
    {
     "name": "stdout",
     "output_type": "stream",
     "text": [
      "Cross-validated F1 scores: [0.74654378 0.65       0.71361502 0.67317073 0.71153846]\n",
      "Average F1 score: 0.6989735991043601\n"
     ]
    }
   ],
   "source": [
    "from sklearn.model_selection import cross_val_score\n",
    "from sklearn.ensemble import GradientBoostingClassifier\n",
    "\n",
    "model = GradientBoostingClassifier()\n",
    "scores = cross_val_score(model, X, y, cv=5, scoring='f1')\n",
    "\n",
    "print(\"Cross-validated F1 scores:\", scores)\n",
    "print(\"Average F1 score:\", scores.mean())"
   ]
  }
 ],
 "metadata": {
  "kernelspec": {
   "display_name": "base",
   "language": "python",
   "name": "python3"
  },
  "language_info": {
   "codemirror_mode": {
    "name": "ipython",
    "version": 3
   },
   "file_extension": ".py",
   "mimetype": "text/x-python",
   "name": "python",
   "nbconvert_exporter": "python",
   "pygments_lexer": "ipython3",
   "version": "3.12.7"
  }
 },
 "nbformat": 4,
 "nbformat_minor": 5
}
